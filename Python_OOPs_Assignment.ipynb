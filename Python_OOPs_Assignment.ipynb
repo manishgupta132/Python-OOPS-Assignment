{
  "nbformat": 4,
  "nbformat_minor": 0,
  "metadata": {
    "colab": {
      "provenance": []
    },
    "kernelspec": {
      "name": "python3",
      "display_name": "Python 3"
    },
    "language_info": {
      "name": "python"
    }
  },
  "cells": [
    {
      "cell_type": "markdown",
      "source": [
        "**Python OOPs Assignment**"
      ],
      "metadata": {
        "id": "NyJEkpcVlu2x"
      }
    },
    {
      "cell_type": "markdown",
      "source": [
        " 1. What is Object-Oriented Programming (OOP)?\n",
        " - Object-Oriented Programming (OOP) is a way of writing programs using objects, which are like real-life things that have data (like properties) and actions (like functions or methods). It helps make programs easier to understand, reuse, and maintain.\n",
        "\n",
        " 2. What is a class in OOP?\n",
        " - A class in Object-Oriented Programming (OOP) is a blueprint or template used to create objects. It defines the properties (data) and methods (actions) that the objects created from the class will have.\n",
        "\n",
        " 3. What is an object in OOP?\n",
        " - An object in Object-Oriented Programming (OOP) is an instance of a class. It represents a real-world entity and contains data (attributes) and behavior (methods) defined by its class.\n",
        "\n",
        " 4. What is the difference between abstraction and encapsulation?\n",
        " - Abstraction and encapsulation are both key concepts in Object-Oriented Programming but serve different purposes. Abstraction means hiding unnecessary details and showing only the essential features of an object, helping to reduce complexity.\n",
        "\n",
        " On the other hand, encapsulation is about bundling data (variables) and methods (functions) into a single unit (class) and restricting direct access to some of the object’s components to protect data.\n",
        "\n",
        " 5. What are dunder methods in Python?\n",
        " - Dunder methods are built-in methods in Python that start and end with double underscores and allow you to customize the behavior of your objects.\n",
        "\n",
        " 6. Explain the concept of inheritance in OOP?\n",
        " - Inheritance in Object-Oriented Programming (OOP) is the concept where a new class (called a child or subclass) can inherit properties and behaviors (variables and methods) from an existing class (called a parent or superclass). It allows code reuse and helps in building a hierarchical relationship between classes.\n",
        "\n",
        " 7. What is polymorphism in OOP?\n",
        " - Polymorphism in Object-Oriented Programming (OOP) means the ability of different classes to respond to the same method name in different ways.\n",
        "\n",
        " 8. How is encapsulation achieved in Python?\n",
        " - Encapsulation is achieved in Python by restricting access to the internal data of a class using access modifiers and providing methods to get or set values. This helps protect the data and control how it is accessed or modified.\n",
        "\n",
        " 9. What is a constructor in Python?\n",
        " - A constructor in Python is a special method called __init__ that is automatically called when you create a new object from a class. Its main purpose is to initialize the object's attributes with specific values when the object is created.\n",
        "\n",
        " 10. What are class and static methods in Python?\n",
        " - Class methods in Python are methods marked with the @classmethod decorator that receive the class (cls) as the first argument and can access or modify class-level data.\n",
        "\n",
        "Static methods are methods marked with the @staticmethod decorator that do not receive an implicit first argument and behave like regular functions inside a class, typically used for utility tasks that don’t access instance or class data.\n",
        "\n",
        " 11. What is method overloading in Python?\n",
        " - Method overloading is the ability to define multiple methods with the same name but different parameters (different type or number of arguments) within the same class.\n",
        "\n",
        " 12. What is method overriding in OOP?\n",
        " - Method overriding in Object-Oriented Programming (OOP) happens when a child class provides its own version of a method that is already defined in its parent class. This allows the child class to change or extend the behavior of that method while keeping the same method name.\n",
        "\n",
        " 13. What is a property decorator in Python?\n",
        " - A property decorator in Python is a built-in decorator @property that allows you to define methods in a class that behave like attributes (i.e., you can access them without parentheses). It is used to control access to private variables by creating getter, setter, and deleter methods in a clean and readable way.\n",
        "\n",
        " 14. Why is polymorphism important in OOP?\n",
        " - Polymorphism is important in OOP because it lets different objects use the same method name to do things in their own way. This makes code simpler, more flexible, and easier to expand or change without rewriting a lot. It helps different objects work together smoothly even if they are different types.\n",
        "\n",
        " 15. What is an abstract class in Python?\n",
        " - An abstract class in Python is a class that cannot be instantiated directly and is meant to be a base class for other classes. It often contains one or more abstract methods, which are methods declared but without an implementation. Subclasses must override and provide their own version of these abstract methods.\n",
        "\n",
        " 16. What are the advantages of OOP?\n",
        " - The main advantages of Object-Oriented Programming (OOP) are :\n",
        "\n",
        " Code Reusability: You can use existing classes and create new ones by extending them, which saves time and effort.\n",
        "\n",
        " Modularity: Code is organized into separate objects or classes, making it easier to manage and understand.\n",
        "\n",
        " Easy Maintenance: Since code is modular and organized, fixing bugs or adding new features becomes simpler.\n",
        "\n",
        " Data Protection: Encapsulation hides the internal data of objects, protecting it from unintended changes.\n",
        "\n",
        " Flexibility with Polymorphism: Different objects can be used interchangeably while behaving differently, making programs more flexible.\n",
        "\n",
        " 17. What is the difference between a class variable and an instance variable?\n",
        " - The key difference between a class variable and an instance variable:\n",
        " Class Variable:\n",
        " A variable that is shared by all instances of a class. It belongs to the class itself, so if you change it, the change is seen by all objects created from that class.\n",
        "\n",
        " Instance Variable:\n",
        " A variable that belongs to each individual object (instance). Each object has its own copy, so changing it in one object does not affect others.\n",
        "\n",
        " 18. What is multiple inheritance in Python?\n",
        " - Multiple inheritance means a class can have more than one parent class and inherit features from all of them. Multiple inheritance helps create classes that combine different abilities from various parents, but it should be used carefully to avoid complexity.\n",
        "\n",
        " 19. Explain the purpose of ‘’__str__’ and ‘__repr__’ ‘ methods in Python.\n",
        " - The purpose of __str__ and __repr__ methods in Python:\n",
        "\n",
        " __str__ method:\n",
        " Returns a human-readable string representation of an object.\n",
        " Used when you call print() or str() on an object.\n",
        "\n",
        " __repr__ method:\n",
        " Returns an official string representation of an object.\n",
        " Used when you call repr() or inspect the object in the Python shell.\n",
        "\n",
        " 20. What is the significance of the ‘super()’ function in Python?\n",
        " - The super() function in Python is used to call a method from a parent (super) class inside a child class. It helps you reuse and extend the functionality of the parent class without explicitly naming it, which is especially useful in inheritance.\n",
        "\n",
        " 21. What is the significance of the __del__ method in Python?\n",
        " - The __del__ method in Python is a special (dunder) method called a destructor. It is automatically called when an object is about to be destroyed, typically when it is no longer in use and is garbage collected.\n",
        "\n",
        " 22. What is the difference between @staticmethod and @classmethod in Python?\n",
        " - The difference between @staticmethod and @classmethod in Python:\n",
        "\n",
        "  @staticmethod:\n",
        " Doesn’t take self or cls as the first parameter.\n",
        " Can’t access or modify class or instance variables.\n",
        " Acts like a regular function, but is placed inside a class for logical grouping.\n",
        "\n",
        " @classmethod:\n",
        " Takes cls as the first parameter (refers to the class, not an instance).\n",
        " Can access or modify class-level data.\n",
        " Works with the class itself, not with instances.\n",
        "\n",
        " 23. How does polymorphism work in Python with inheritance?\n",
        " - Polymorphism with inheritance in Python means that different child classes can override the same method from a parent class, and Python can call the correct version automatically, even if you’re referring to the object through a parent class reference.\n",
        "\n",
        " 24. What is method chaining in Python OOP?\n",
        " - Method chaining in Python OOP is a technique where multiple methods are called on the same object in a single line, one after another. This is done by having each method return the object (self) so the next method can be called on it.\n",
        "\n",
        " 25. What is the purpose of the __call__ method in Python?\n",
        " - The __call__ method in Python allows an instance of a class to be called like a function. When you define __call__ in a class, you can use the object with parentheses and it will execute the __call__ method.\n",
        "\n",
        "\n",
        "\n",
        "\n",
        "\n",
        "\n",
        "\n",
        "\n",
        "\n",
        "\n",
        "\n",
        "\n",
        "\n"
      ],
      "metadata": {
        "id": "bOxERiN2KjeA"
      }
    },
    {
      "cell_type": "markdown",
      "source": [
        "**Practical Questions**"
      ],
      "metadata": {
        "id": "gIBAe8DNmFsj"
      }
    },
    {
      "cell_type": "code",
      "execution_count": null,
      "metadata": {
        "id": "psXRGqfRKSBj",
        "colab": {
          "base_uri": "https://localhost:8080/"
        },
        "outputId": "7cd80e8a-7e4d-4ac7-a639-6563571c205a"
      },
      "outputs": [
        {
          "output_type": "stream",
          "name": "stdout",
          "text": [
            "Bark\n"
          ]
        }
      ],
      "source": [
        "# 1. Create a parent class Animal with a method speak() that prints a generic message. Create a child class Dog that overrides the speak() method to print \"Bark!\"\n",
        "class Animal :\n",
        "  def speak(self):\n",
        "    print(\"Animal sound\")\n",
        "class Dog(Animal):\n",
        "  def speak(self):\n",
        "    print(\"Bark\")\n",
        "\n",
        "obj = Dog()\n",
        "obj.speak()\n"
      ]
    },
    {
      "cell_type": "code",
      "source": [
        "# 2. Write a program to create an abstract class Shape with a method area(). Derive classes Circle and Rectangle from it and implement the area() method in both\n",
        "\n",
        "import abc\n",
        "class Shape(abc.ABC):\n",
        "  @abc.abstractmethod\n",
        "  def area(self, *args):\n",
        "    pass\n",
        "class Circle(Shape):\n",
        "  def area(self, radius):\n",
        "     print(\"the area of circle is\",3.14*radius**2)\n",
        "class Rectangle(Shape):\n",
        "  def area(self, length,breadth):\n",
        "     print(\"the area of rectangle is\",length * breadth)\n",
        "\n",
        "obj1 = Circle()\n",
        "obj1.area(5)\n",
        "\n",
        "obj2 = Rectangle()\n",
        "obj2.area(5,10)\n",
        "\n",
        "\n",
        "\n"
      ],
      "metadata": {
        "id": "UiJGH554mV2Q",
        "colab": {
          "base_uri": "https://localhost:8080/"
        },
        "outputId": "61c59d65-4e15-479a-fbe9-9f2ecef33efa"
      },
      "execution_count": null,
      "outputs": [
        {
          "output_type": "stream",
          "name": "stdout",
          "text": [
            "the area of circle is 78.5\n",
            "the area of rectangle is 50\n"
          ]
        }
      ]
    },
    {
      "cell_type": "code",
      "source": [
        "# 3. Implement a multi-level inheritance scenario where a class Vehicle has an attribute type. Derive a class Car and further derive a class ElectricCar that adds a battery attribute.\n",
        "\n",
        "class Vehicle:\n",
        "    def __init__(self, vehicle_type):\n",
        "        self.type = vehicle_type\n",
        "\n",
        "    def show_type(self):\n",
        "        print(f\"Vehicle type: {self.type}\")\n",
        "class Car(Vehicle):\n",
        "    def __init__(self, vehicle_type, battery_capacity):\n",
        "      super().__init__(vehicle_type)\n",
        "      self.battery_capacity = battery_capacity\n",
        "\n",
        "    def show_battery(self):\n",
        "      print(f\"Battery type: {self.battery_capacity}\")\n",
        "# 3. Implement a multi-level inheritance scenario where a class Vehicle has an attribute type. Derive a class Car and further derive a class ElectricCar that adds a battery attribute.\n",
        "\n",
        "class Vehicle:\n",
        "    def __init__(self, vehicle_type):\n",
        "        self.type = vehicle_type\n",
        "\n",
        "    def show_type(self):\n",
        "        print(f\"Vehicle type: {self.type}\")\n",
        "class Car(Vehicle):\n",
        "    def __init__(self, vehicle_type, battery_capacity):\n",
        "      super().__init__(vehicle_type)\n",
        "      self.battery_capacity = battery_capacity\n",
        "\n",
        "    def show_battery(self):\n",
        "      print(f\"Battery type: {self.battery_capacity}\")\n",
        "\n",
        "class ElectricCar(Car):\n",
        "    def __init__(self, vehicle_type, battery_capacity, ec_battery_type):\n",
        "        super().__init__(vehicle_type, battery_capacity)\n",
        "        self.ec_battery_type = ec_battery_type  # Separate attribute for ElectricCar\n",
        "\n",
        "    def show_battery(self):\n",
        "        print(f\"Car battery capacity: {self.battery_capacity}\")\n",
        "        print(f\"ElectricCar special battery type: {self.ec_battery_type}\")\n",
        "\n",
        "\n",
        "\n",
        "obj = ElectricCar(\"ElectricCar\", \"1400 kWh\", \"Lithium-ion\")\n",
        "obj.show_battery()\n",
        "\n",
        "\n",
        "\n",
        "\n",
        "\n",
        "\n"
      ],
      "metadata": {
        "colab": {
          "base_uri": "https://localhost:8080/"
        },
        "id": "3SQr8-qr47uh",
        "outputId": "529b14d1-08b8-4b39-9d0c-99149f91a218"
      },
      "execution_count": null,
      "outputs": [
        {
          "output_type": "stream",
          "name": "stdout",
          "text": [
            "Car battery capacity: 1400 kWh\n",
            "ElectricCar special battery type: Lithium-ion\n",
            "Car battery capacity: 1400 kWh\n",
            "ElectricCar special battery type: Lithium-ion\n"
          ]
        }
      ]
    },
    {
      "cell_type": "code",
      "source": [
        "# 4. Demonstrate polymorphism by creating a base class Bird with a method fly(). Create two derived classes Sparrow and Penguin that override the fly() method\n",
        "\n",
        "class Bird:\n",
        "  def fly(self):\n",
        "    print(\"birds fly\")\n",
        "class Sparrow(Bird):\n",
        "  def fly(self):\n",
        "    print(\"Sparrows do fly\")\n",
        "class Penguin(Bird):\n",
        "  def fly(self):\n",
        "    print(\"Penguins do not fly\")\n",
        "\n",
        "obj = Penguin()\n",
        "obj.fly()\n"
      ],
      "metadata": {
        "id": "4ppcO8pb_eG1",
        "colab": {
          "base_uri": "https://localhost:8080/"
        },
        "outputId": "f6aab04b-cdb1-489a-ca80-b9963f08b8da"
      },
      "execution_count": null,
      "outputs": [
        {
          "output_type": "stream",
          "name": "stdout",
          "text": [
            "Penguins do not fly\n"
          ]
        }
      ]
    },
    {
      "cell_type": "code",
      "source": [
        "#5. Write a program to demonstrate encapsulation by creating a class BankAccount with private attributes balance and methods to deposit, withdraw, and check balance.\n",
        "\n",
        "class BankAccount:\n",
        "  def __init__(self, initial_balance):\n",
        "    self.__balance = initial_balance\n",
        "  def deposit(self,deposit_amount):\n",
        "    if deposit_amount >= 0:\n",
        "      self.__balance += deposit_amount\n",
        "      print(\"the deposit amount is\",deposit_amount)\n",
        "    else :\n",
        "      print(\"Invalid deposit amount\")\n",
        "  def withdraw(self, withdrawal_amount):\n",
        "    if withdrawal_amount > 0 and withdrawal_amount <= self.__balance:\n",
        "      self.__balance -= withdrawal_amount\n",
        "      print(\"withdrawal amount is\", withdrawal_amount)\n",
        "  def __check_balance(self):\n",
        "    return self.__balance\n",
        "  def access__check_balance(self):\n",
        "    return self.__check_balance()\n",
        "obj = BankAccount(4000)\n",
        "obj.deposit(900)\n",
        "obj.access__check_balance()"
      ],
      "metadata": {
        "colab": {
          "base_uri": "https://localhost:8080/"
        },
        "id": "UCBlpIeg4DL7",
        "outputId": "ca25ef08-4d30-42eb-f5f4-c86e7a687dfd"
      },
      "execution_count": null,
      "outputs": [
        {
          "output_type": "stream",
          "name": "stdout",
          "text": [
            "the deposit amount is 900\n"
          ]
        },
        {
          "output_type": "execute_result",
          "data": {
            "text/plain": [
              "4900"
            ]
          },
          "metadata": {},
          "execution_count": 13
        }
      ]
    },
    {
      "cell_type": "code",
      "source": [
        "# 6. Demonstrate runtime polymorphism using a method play() in a base class Instrument. Derive classes Guitar and Piano that implement their own version of play()\n",
        "\n",
        "class Instrument:\n",
        "  def play(self):\n",
        "    print(\"instrument plays and makes sound\")\n",
        "class Guitar(Instrument):\n",
        "  def play(self):\n",
        "    print(\"Guitar play sound\")\n",
        "class Piano(Instrument):\n",
        "  def play(self):\n",
        "    print(\"Piano makes sound\")\n",
        "obj = Piano()\n",
        "obj.play()"
      ],
      "metadata": {
        "colab": {
          "base_uri": "https://localhost:8080/"
        },
        "id": "7qKdN8wCDciF",
        "outputId": "59971f5b-fc4b-478a-adb0-9eba2474e95a"
      },
      "execution_count": null,
      "outputs": [
        {
          "output_type": "stream",
          "name": "stdout",
          "text": [
            "Piano makes sound\n"
          ]
        }
      ]
    },
    {
      "cell_type": "code",
      "source": [
        "# 7. Create a class MathOperations with a class method add_numbers() to add two numbers and a static method subtract_numbers() to subtract two numbers\n",
        "\n",
        "class MathOperations:\n",
        "  @classmethod\n",
        "  def add_numbers(cls,a,b):\n",
        "    add = a+b\n",
        "    return add\n",
        "  @staticmethod\n",
        "  def subtract_numbers(a, b):\n",
        "    difference = a - b\n",
        "    return difference\n",
        "print(MathOperations.add_numbers(5, 6))\n",
        "print(MathOperations.subtract_numbers(80, 7))\n",
        "\n"
      ],
      "metadata": {
        "colab": {
          "base_uri": "https://localhost:8080/"
        },
        "id": "5jREjLkGGzXA",
        "outputId": "df8144a0-88d0-4dfa-b3a5-d8e6b3537740"
      },
      "execution_count": null,
      "outputs": [
        {
          "output_type": "stream",
          "name": "stdout",
          "text": [
            "11\n",
            "73\n"
          ]
        }
      ]
    },
    {
      "cell_type": "code",
      "source": [
        "#8. Implement a class Person with a class method to count the total number of persons created.\n",
        "\n",
        "class Person:\n",
        "    count = 0  # Class variable to keep track of the number of persons\n",
        "\n",
        "    def __init__(self, name):\n",
        "        self.name = name\n",
        "        Person.count += 1  # Increment count whenever a new object is created\n",
        "\n",
        "    @classmethod\n",
        "    def total_persons(cls):\n",
        "        print(f\"Total persons created: {cls.count}\")\n",
        "\n",
        "p1 = Person(\"Alice\")\n",
        "p2 = Person(\"Bob\")\n",
        "p3 = Person(\"Charlie\")\n",
        "\n",
        "Person.total_persons()"
      ],
      "metadata": {
        "colab": {
          "base_uri": "https://localhost:8080/"
        },
        "id": "qdSuTsjIH_Gk",
        "outputId": "41203bdd-9d5c-4d9e-e2bd-8b2084ea2d7e"
      },
      "execution_count": null,
      "outputs": [
        {
          "output_type": "stream",
          "name": "stdout",
          "text": [
            "Total persons created: 3\n"
          ]
        }
      ]
    },
    {
      "cell_type": "code",
      "source": [
        "# 9. Write a class Fraction with attributes numerator and denominator. Override the str method to display the fraction as \"numerator/denominator\"\n",
        "\n",
        "class Fraction:\n",
        "  def __init__(self, numerator, denominator):\n",
        "    self.numerator = numerator\n",
        "    self.denominator = denominator\n",
        "  def __str__(self):\n",
        "     pass\n",
        "class CustomFraction(Fraction):\n",
        "  def __str__(self):\n",
        "    return f\"{self.numerator}/{self.denominator}\"\n",
        "obj = CustomFraction(4,5)\n",
        "print(obj)\n"
      ],
      "metadata": {
        "colab": {
          "base_uri": "https://localhost:8080/"
        },
        "id": "ME6pqsx3J_bR",
        "outputId": "2cd60ddd-5186-4da5-eaa5-6d702567d362"
      },
      "execution_count": null,
      "outputs": [
        {
          "output_type": "stream",
          "name": "stdout",
          "text": [
            "4/5\n"
          ]
        }
      ]
    },
    {
      "cell_type": "code",
      "source": [
        "# 10. Demonstrate operator overloading by creating a class Vector and overriding the add method to add two vectors\n",
        "\n",
        "class Vector:\n",
        "    def __init__(self, x, y):\n",
        "        self.x = x\n",
        "        self.y = y\n",
        "\n",
        "    def __add__(self, other):\n",
        "        # Overloading the + operator to add two vectors\n",
        "        return Vector(self.x + other.x, self.y + other.y)\n",
        "\n",
        "    def __str__(self):\n",
        "        return f\"Vector({self.x}, {self.y})\"\n",
        "\n",
        "# Example usage:\n",
        "v1 = Vector(2, 3)\n",
        "v2 = Vector(4, 5)\n",
        "v3 = v1 + v2  # This will call v1.__add__(v2)\n",
        "\n",
        "print(v3)\n",
        "\n"
      ],
      "metadata": {
        "id": "RCfdyDSmehC6",
        "colab": {
          "base_uri": "https://localhost:8080/"
        },
        "outputId": "7c93bae0-527e-4631-f56f-a4c151f2c55f"
      },
      "execution_count": null,
      "outputs": [
        {
          "output_type": "stream",
          "name": "stdout",
          "text": [
            "Vector(6, 8)\n"
          ]
        }
      ]
    },
    {
      "cell_type": "code",
      "source": [
        "# 11. Create a class Person with attributes name and age. Add a method greet() that prints \"Hello, my name is {name} and I am {age} years old.\n",
        "\n",
        "class Person:\n",
        "  def __init__(self,name, age):\n",
        "    self.name = name\n",
        "    self.age = age\n",
        "  def greet(self):\n",
        "    print(f\"Hello, my name is {self.name} and I am {self.age} years old\")\n",
        "obj = Person(\"Alice\", 20)\n",
        "obj.greet()\n"
      ],
      "metadata": {
        "colab": {
          "base_uri": "https://localhost:8080/"
        },
        "id": "_x_ZVOuejQ5C",
        "outputId": "86d98b8e-bf13-4426-993f-a0815fb8fa6f"
      },
      "execution_count": null,
      "outputs": [
        {
          "output_type": "stream",
          "name": "stdout",
          "text": [
            "Hello, my name is Alice and I am 20 years old\n"
          ]
        }
      ]
    },
    {
      "cell_type": "code",
      "source": [
        "# 12. Implement a class Student with attributes name and grades. Create a method average_grade() to compute the average of the grades.\n",
        "\n",
        "class Student:\n",
        "  def __init__(self, name, grades):\n",
        "    self.name = name\n",
        "    self.grades = grades\n",
        "  def average_grade(self):\n",
        "    if not self.grades:\n",
        "        return 0\n",
        "    return sum(self.grades) / len(self.grades)\n",
        "\n",
        "obj = Student(\"Ram\", [85, 90, 78, 92, 88])\n",
        "print(f\"{obj.name}'s average grade is: {obj.average_grade()}\")\n"
      ],
      "metadata": {
        "colab": {
          "base_uri": "https://localhost:8080/"
        },
        "id": "4zS6m0hvj0H0",
        "outputId": "af484324-eac1-436f-e55c-a9e11fe3e3a5"
      },
      "execution_count": null,
      "outputs": [
        {
          "output_type": "stream",
          "name": "stdout",
          "text": [
            "Ram's average grade is: 0\n"
          ]
        }
      ]
    },
    {
      "cell_type": "code",
      "source": [
        "#13. Create a class Rectangle with methods set_dimensions() to set the dimensions and area() to calculate the area\n",
        "\n",
        "class Rectangle:\n",
        "  def __init__(self):\n",
        "    self.length = 0\n",
        "    self.breadth = 0\n",
        "  def set_dimensions(self, length, breadth):\n",
        "    self.length = length\n",
        "    self.breadth = breadth\n",
        "  def area(self):\n",
        "    area = self.length * self.breadth\n",
        "    return area\n",
        "obj = Rectangle()\n",
        "obj.set_dimensions(3,5)\n",
        "print(\"the area of area is\",obj.area())"
      ],
      "metadata": {
        "colab": {
          "base_uri": "https://localhost:8080/"
        },
        "id": "2UElfaOVnMo2",
        "outputId": "0294181f-19d0-466f-afde-7faf09a5a5ef"
      },
      "execution_count": null,
      "outputs": [
        {
          "output_type": "stream",
          "name": "stdout",
          "text": [
            "the area of area is 15\n"
          ]
        }
      ]
    },
    {
      "cell_type": "code",
      "source": [
        "# 14. Create a class Employee with a method calculate_salary() that computes the salary based on hours worked and hourly rate. Create a derived class Manager that adds a bonus to the salary\n",
        "\n",
        "class Employee:\n",
        "  def __init__(self,hours_worked, hourly_rate):\n",
        "    self.hours_worked = hours_worked\n",
        "    self.hourly_rate = hourly_rate\n",
        "    self.salary = 0\n",
        "  def calculate_salary(self):\n",
        "    self.salary = self.hours_worked * self.hourly_rate\n",
        "    return self.salary\n",
        "class Manager(Employee):\n",
        "\n",
        "  def add_bonus(self,bonus):\n",
        "    new_salary = self.salary + bonus\n",
        "    return new_salary\n",
        "obj = Manager(10,100)\n",
        "print(\"the salary is \",obj.calculate_salary())\n",
        "bonus = 200\n",
        "print(f\"the new salary with bonus {bonus} is\",obj.add_bonus(bonus))\n"
      ],
      "metadata": {
        "colab": {
          "base_uri": "https://localhost:8080/"
        },
        "id": "JG9WySJxpzcw",
        "outputId": "308c5b7e-6a19-424f-c2ea-8b5d18c3f5f5"
      },
      "execution_count": null,
      "outputs": [
        {
          "output_type": "stream",
          "name": "stdout",
          "text": [
            "the salary is  1000\n",
            "the new salary with bonus 200 is 1200\n"
          ]
        }
      ]
    },
    {
      "cell_type": "code",
      "source": [
        "#15. Create a class Product with attributes name, price, and quantity. Implement a method total_price() that calculates the total price of the product.\n",
        "\n",
        "class Product:\n",
        "  def __init__(self,name,price, quantity):\n",
        "    self.name = name\n",
        "    self.price = price\n",
        "    self.quantity = quantity\n",
        "  def total_price(self):\n",
        "    total_price = self.price * self.quantity\n",
        "    return total_price\n",
        "obj = Product(\"Headphone\", 500,10)\n",
        "obj.total_price()\n",
        "print(f\"The total price of product {obj.name} is {obj.total_price()}\")"
      ],
      "metadata": {
        "id": "PwCBTQkmrVWO",
        "colab": {
          "base_uri": "https://localhost:8080/"
        },
        "outputId": "42f4fabd-113d-4412-dbe8-63fb964fc389"
      },
      "execution_count": null,
      "outputs": [
        {
          "output_type": "stream",
          "name": "stdout",
          "text": [
            "The total price of product Headphone is 5000\n"
          ]
        }
      ]
    },
    {
      "cell_type": "code",
      "source": [
        "# 16. Create a class Animal with an abstract method sound(). Create two derived classes Cow and Sheep that implement the sound() method\n",
        "\n",
        "import abc\n",
        "class Animal(abc.ABC):\n",
        "  @abc.abstractmethod\n",
        "  def sound(self):\n",
        "    return f\"Animals produce sound\"\n",
        "class Cow(Animal):\n",
        "  def sound(self):\n",
        "    return f\"Cow sounds moo\"\n",
        "class Sheep(Animal):\n",
        "  def sound(self):\n",
        "    return f\"Sheep sounds baa\"\n",
        "\n",
        "obj = Sheep()\n",
        "obj.sound()"
      ],
      "metadata": {
        "colab": {
          "base_uri": "https://localhost:8080/",
          "height": 35
        },
        "id": "hWhSWfmi5og5",
        "outputId": "8bf979cb-72ec-48ce-dae2-a7397a6d6dc9"
      },
      "execution_count": null,
      "outputs": [
        {
          "output_type": "execute_result",
          "data": {
            "text/plain": [
              "'Sheep sounds baa'"
            ],
            "application/vnd.google.colaboratory.intrinsic+json": {
              "type": "string"
            }
          },
          "metadata": {},
          "execution_count": 3
        }
      ]
    },
    {
      "cell_type": "code",
      "source": [
        "# 17. Create a class Book with attributes title, author, and year_published. Add a method get_book_info() that returns a formatted string with the book's details\n",
        "\n",
        "class Book:\n",
        "  def __init__(self, title, author, year_published):\n",
        "    self.title = title\n",
        "    self.author = author\n",
        "    self.year_published = year_published\n",
        "  def get_book_info(self):\n",
        "\n",
        "        return (f\"Book's details:\\n\"\n",
        "                f\"Title: {self.title}\\n\"\n",
        "                f\"Author: {self.author}\\n\"\n",
        "                f\"Year Published: {self.year_published}\")\n",
        "obj = Book(\"Bhagawad Geeta\", \"Vedvyas\", \"1800\" )\n",
        "print(obj.get_book_info())"
      ],
      "metadata": {
        "colab": {
          "base_uri": "https://localhost:8080/"
        },
        "id": "3oSX66R062mo",
        "outputId": "61ba1c61-916c-4efa-d4b5-662eddf88249"
      },
      "execution_count": null,
      "outputs": [
        {
          "output_type": "stream",
          "name": "stdout",
          "text": [
            "Book's details:\n",
            "Title: Bhagawad Geeta\n",
            "Author: Vedvyas\n",
            "Year Published: 1800\n"
          ]
        }
      ]
    },
    {
      "cell_type": "code",
      "source": [
        "# 18. Create a class House with attributes address and price. Create a derived class Mansion that adds an attribute number_of_rooms\n",
        "\n",
        "class House:\n",
        "    def __init__(self, address, price):\n",
        "        self.address = address\n",
        "        self.price = price\n",
        "\n",
        "class Mansion(House):\n",
        "    def __init__(self, address, price, number_of_rooms):\n",
        "        super().__init__(address, price)\n",
        "        self.number_of_rooms = number_of_rooms\n",
        "\n",
        "    def get_details(self):\n",
        "        return (f\"Address: {self.address}\\n\"\n",
        "                f\"Price: {self.price}\\n\"\n",
        "                f\"Number of Rooms: {self.number_of_rooms}\")\n",
        "\n",
        "obj = Mansion(\"Ranighat\", 12500, 100)\n",
        "print(obj.get_details())\n"
      ],
      "metadata": {
        "colab": {
          "base_uri": "https://localhost:8080/"
        },
        "id": "PFJGFU4e8fsx",
        "outputId": "827f5d85-4e8e-4da2-a591-434e484654b1"
      },
      "execution_count": null,
      "outputs": [
        {
          "output_type": "stream",
          "name": "stdout",
          "text": [
            "Address: Ranighat\n",
            "Price: 12500\n",
            "Number of Rooms: 100\n"
          ]
        }
      ]
    },
    {
      "cell_type": "code",
      "source": [],
      "metadata": {
        "id": "0B6tcfWJF2ul"
      },
      "execution_count": null,
      "outputs": []
    }
  ]
}